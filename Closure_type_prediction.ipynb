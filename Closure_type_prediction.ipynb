{
  "nbformat": 4,
  "nbformat_minor": 0,
  "metadata": {
    "colab": {
      "name": "Assignmet.ipynb",
      "version": "0.3.2",
      "provenance": [],
      "collapsed_sections": []
    },
    "kernelspec": {
      "name": "python3",
      "display_name": "Python 3"
    },
    "accelerator": "GPU"
  },
  "cells": [
    {
      "metadata": {
        "id": "31GocVslf2IF",
        "colab_type": "text"
      },
      "cell_type": "markdown",
      "source": [
        "##Don't close this browser tab while your project is running.\n",
        "\n",
        "**Run the code block below to start your Clouderizer project. **"
      ]
    },
    {
      "metadata": {
        "id": "1rzBxzOrf2yX",
        "colab_type": "code",
        "outputId": "5c7c3b29-889b-431e-e195-e90da7516a56",
        "colab": {
          "base_uri": "https://localhost:8080/",
          "height": 34
        }
      },
      "cell_type": "code",
      "source": [
        "ls"
      ],
      "execution_count": 0,
      "outputs": [
        {
          "output_type": "stream",
          "text": [
            "\u001b[0m\u001b[01;34msample_data\u001b[0m/\n"
          ],
          "name": "stdout"
        }
      ]
    },
    {
      "metadata": {
        "id": "Dwm4sR-FMJTI",
        "colab_type": "code",
        "outputId": "7b972824-a9d5-43c3-a04c-c3e5cd438f07",
        "colab": {
          "base_uri": "https://localhost:8080/",
          "height": 2053
        }
      },
      "cell_type": "code",
      "source": [
        "!wget https://www.dropbox.com/s/4mtba8cjd1djk7i/view1.tar.xz\n",
        "!wget https://www.dropbox.com/s/6t0ywvlockk223u/view2.tar.xz\n",
        "!wget https://www.dropbox.com/s/u85f88kor31bdju/view3.tar.xz\n",
        "!wget https://www.dropbox.com/s/4nw27i1kvim5uct/view4.tar.xz\n",
        "!wget https://www.dropbox.com/s/iljbcc0zj21o2q7/view5.tar.xz\n",
        "!tar -xf view1.tar.xz\n",
        "!tar -xf view2.tar.xz\n",
        "!tar -xf view3.tar.xz\n",
        "!tar -xf view4.tar.xz\n",
        "!tar -xf view5.tar.xz"
      ],
      "execution_count": 0,
      "outputs": [
        {
          "output_type": "stream",
          "text": [
            "--2019-02-23 06:55:41--  https://www.dropbox.com/s/4mtba8cjd1djk7i/view1.tar.xz\n",
            "Resolving www.dropbox.com (www.dropbox.com)... 162.125.82.1, 2620:100:6032:1::a27d:5201\n",
            "Connecting to www.dropbox.com (www.dropbox.com)|162.125.82.1|:443... connected.\n",
            "HTTP request sent, awaiting response... 301 Moved Permanently\n",
            "Location: /s/raw/4mtba8cjd1djk7i/view1.tar.xz [following]\n",
            "--2019-02-23 06:55:41--  https://www.dropbox.com/s/raw/4mtba8cjd1djk7i/view1.tar.xz\n",
            "Reusing existing connection to www.dropbox.com:443.\n",
            "HTTP request sent, awaiting response... 302 Found\n",
            "Location: https://uc7758b2653f3457285517f9bbdc.dl.dropboxusercontent.com/cd/0/inline/Ab0jCkJGwvDGqdfSi-3Wur2zmgqpZmtIUIlqPSrS7OiFJRwhMWXh0lPo-X2odmmBQry9ExJEl0-BdoA1_Y-ukwUElFPr8WEUS2QJP1XEkIcE5w/file# [following]\n",
            "--2019-02-23 06:55:41--  https://uc7758b2653f3457285517f9bbdc.dl.dropboxusercontent.com/cd/0/inline/Ab0jCkJGwvDGqdfSi-3Wur2zmgqpZmtIUIlqPSrS7OiFJRwhMWXh0lPo-X2odmmBQry9ExJEl0-BdoA1_Y-ukwUElFPr8WEUS2QJP1XEkIcE5w/file\n",
            "Resolving uc7758b2653f3457285517f9bbdc.dl.dropboxusercontent.com (uc7758b2653f3457285517f9bbdc.dl.dropboxusercontent.com)... 162.125.82.6, 2620:100:6032:6::a27d:5206\n",
            "Connecting to uc7758b2653f3457285517f9bbdc.dl.dropboxusercontent.com (uc7758b2653f3457285517f9bbdc.dl.dropboxusercontent.com)|162.125.82.6|:443... connected.\n",
            "HTTP request sent, awaiting response... 302 FOUND\n",
            "Location: /cd/0/inline2/Ab1bESmn_hHHS6ezYfiwxXzx81pfxzncw9Nzkrr7CfNEFsRGtOd-BD1zFvIyCWvo8mb2bwOF_AaCczPfTLpflINI5xjlxgbFxYLs4ZI_qZydXyfsLJXO1OVDHxgU6YwGOrEN6sczQ6D8pciFeHv73k5Ojl7nvyqNYsqdd4ZwXSHlunBkZD0TOTRR2PRUrplcc32GnuLjhqqigtFXoVCHVoeYNZii83mYwDZJXIIVdMSog3-FqgqqjlFt8YTPlcnIXpgU9g0HxjHC2PqF3boAJPTsABNulBEGYtCcsKLYV3kFbDXKBm7BDzSfbiL1DWmm87xvqiBXW-oHH_tjUZ5PvIY8/file [following]\n",
            "--2019-02-23 06:55:42--  https://uc7758b2653f3457285517f9bbdc.dl.dropboxusercontent.com/cd/0/inline2/Ab1bESmn_hHHS6ezYfiwxXzx81pfxzncw9Nzkrr7CfNEFsRGtOd-BD1zFvIyCWvo8mb2bwOF_AaCczPfTLpflINI5xjlxgbFxYLs4ZI_qZydXyfsLJXO1OVDHxgU6YwGOrEN6sczQ6D8pciFeHv73k5Ojl7nvyqNYsqdd4ZwXSHlunBkZD0TOTRR2PRUrplcc32GnuLjhqqigtFXoVCHVoeYNZii83mYwDZJXIIVdMSog3-FqgqqjlFt8YTPlcnIXpgU9g0HxjHC2PqF3boAJPTsABNulBEGYtCcsKLYV3kFbDXKBm7BDzSfbiL1DWmm87xvqiBXW-oHH_tjUZ5PvIY8/file\n",
            "Reusing existing connection to uc7758b2653f3457285517f9bbdc.dl.dropboxusercontent.com:443.\n",
            "HTTP request sent, awaiting response... 200 OK\n",
            "Length: 656203740 (626M) [application/octet-stream]\n",
            "Saving to: ‘view1.tar.xz’\n",
            "\n",
            "view1.tar.xz        100%[===================>] 625.80M  50.7MB/s    in 15s     \n",
            "\n",
            "2019-02-23 06:55:58 (41.5 MB/s) - ‘view1.tar.xz’ saved [656203740/656203740]\n",
            "\n",
            "--2019-02-23 06:55:59--  https://www.dropbox.com/s/6t0ywvlockk223u/view2.tar.xz\n",
            "Resolving www.dropbox.com (www.dropbox.com)... 162.125.82.1, 2620:100:6032:1::a27d:5201\n",
            "Connecting to www.dropbox.com (www.dropbox.com)|162.125.82.1|:443... connected.\n",
            "HTTP request sent, awaiting response... 301 Moved Permanently\n",
            "Location: /s/raw/6t0ywvlockk223u/view2.tar.xz [following]\n",
            "--2019-02-23 06:56:00--  https://www.dropbox.com/s/raw/6t0ywvlockk223u/view2.tar.xz\n",
            "Reusing existing connection to www.dropbox.com:443.\n",
            "HTTP request sent, awaiting response... 302 Found\n",
            "Location: https://uc1cbc1480dd1c38292e1cac6195.dl.dropboxusercontent.com/cd/0/inline/Ab1SzDHJp307QKpNDw1umf9Ov35fb4EpaA7Hid4WfyH5M_Lgk2UYM2heCBGS2iWotou0ZntQMDeXiimTgmJ_B41mbE2mEogt-EpJHXN33g65jg/file# [following]\n",
            "--2019-02-23 06:56:00--  https://uc1cbc1480dd1c38292e1cac6195.dl.dropboxusercontent.com/cd/0/inline/Ab1SzDHJp307QKpNDw1umf9Ov35fb4EpaA7Hid4WfyH5M_Lgk2UYM2heCBGS2iWotou0ZntQMDeXiimTgmJ_B41mbE2mEogt-EpJHXN33g65jg/file\n",
            "Resolving uc1cbc1480dd1c38292e1cac6195.dl.dropboxusercontent.com (uc1cbc1480dd1c38292e1cac6195.dl.dropboxusercontent.com)... 162.125.82.6, 2620:100:6032:6::a27d:5206\n",
            "Connecting to uc1cbc1480dd1c38292e1cac6195.dl.dropboxusercontent.com (uc1cbc1480dd1c38292e1cac6195.dl.dropboxusercontent.com)|162.125.82.6|:443... connected.\n",
            "HTTP request sent, awaiting response... 302 FOUND\n",
            "Location: /cd/0/inline2/Ab1P7KHPhTf2d9x9ywJkAbBmoEyhz1IALGhY3gfnXutZHGSVavlHcV9IOEe5xKPftd1LWTrQ4Z_5Hm0PMsWU7OW4fcwrCdYaLp41T1M9KjKFe_qQiuSN7w38k9AFmFhHEGcO6etaZMc28CXjcHRnlStYWg_cJ_x2rDyev0iFo1wAdUYJXjzYQO0JUYDVvSQBHBLRRpmDeW-Zr2NuI6ZOS8dnNhYyr9PP-qVy3QMbJpXdpMGVVgcNZ18YxnimhofAE0kC0ALjyNJSTK9NttOh6AKkcmF2ZOVrP4Gf29rsAFEZ-eIxOvxYQP5lO5IY6j6nVsYo_NVHeEpx74Edsz73_IcT/file [following]\n",
            "--2019-02-23 06:56:01--  https://uc1cbc1480dd1c38292e1cac6195.dl.dropboxusercontent.com/cd/0/inline2/Ab1P7KHPhTf2d9x9ywJkAbBmoEyhz1IALGhY3gfnXutZHGSVavlHcV9IOEe5xKPftd1LWTrQ4Z_5Hm0PMsWU7OW4fcwrCdYaLp41T1M9KjKFe_qQiuSN7w38k9AFmFhHEGcO6etaZMc28CXjcHRnlStYWg_cJ_x2rDyev0iFo1wAdUYJXjzYQO0JUYDVvSQBHBLRRpmDeW-Zr2NuI6ZOS8dnNhYyr9PP-qVy3QMbJpXdpMGVVgcNZ18YxnimhofAE0kC0ALjyNJSTK9NttOh6AKkcmF2ZOVrP4Gf29rsAFEZ-eIxOvxYQP5lO5IY6j6nVsYo_NVHeEpx74Edsz73_IcT/file\n",
            "Reusing existing connection to uc1cbc1480dd1c38292e1cac6195.dl.dropboxusercontent.com:443.\n",
            "HTTP request sent, awaiting response... 200 OK\n",
            "Length: 1073864804 (1.0G) [application/octet-stream]\n",
            "Saving to: ‘view2.tar.xz’\n",
            "\n",
            "view2.tar.xz        100%[===================>]   1.00G  51.3MB/s    in 25s     \n",
            "\n",
            "2019-02-23 06:56:27 (40.5 MB/s) - ‘view2.tar.xz’ saved [1073864804/1073864804]\n",
            "\n",
            "--2019-02-23 06:56:28--  https://www.dropbox.com/s/u85f88kor31bdju/view3.tar.xz\n",
            "Resolving www.dropbox.com (www.dropbox.com)... 162.125.82.1, 2620:100:6032:1::a27d:5201\n",
            "Connecting to www.dropbox.com (www.dropbox.com)|162.125.82.1|:443... connected.\n",
            "HTTP request sent, awaiting response... 301 Moved Permanently\n",
            "Location: /s/raw/u85f88kor31bdju/view3.tar.xz [following]\n",
            "--2019-02-23 06:56:29--  https://www.dropbox.com/s/raw/u85f88kor31bdju/view3.tar.xz\n",
            "Reusing existing connection to www.dropbox.com:443.\n",
            "HTTP request sent, awaiting response... 302 Found\n",
            "Location: https://uc10a4027aa5a140f72526553f27.dl.dropboxusercontent.com/cd/0/inline/Ab2eppA9KxsbCNZyzw8L5-wg0giok4wo5jMIavLC2nr-XgwXVf2ddYF0wTQ86qnL6xjnTWOcXG1h60P7zJ7QNc7ZvpabxRM6GAAIq2ogGIs-Yg/file# [following]\n",
            "--2019-02-23 06:56:29--  https://uc10a4027aa5a140f72526553f27.dl.dropboxusercontent.com/cd/0/inline/Ab2eppA9KxsbCNZyzw8L5-wg0giok4wo5jMIavLC2nr-XgwXVf2ddYF0wTQ86qnL6xjnTWOcXG1h60P7zJ7QNc7ZvpabxRM6GAAIq2ogGIs-Yg/file\n",
            "Resolving uc10a4027aa5a140f72526553f27.dl.dropboxusercontent.com (uc10a4027aa5a140f72526553f27.dl.dropboxusercontent.com)... 162.125.82.6, 2620:100:6032:6::a27d:5206\n",
            "Connecting to uc10a4027aa5a140f72526553f27.dl.dropboxusercontent.com (uc10a4027aa5a140f72526553f27.dl.dropboxusercontent.com)|162.125.82.6|:443... connected.\n",
            "HTTP request sent, awaiting response... 302 FOUND\n",
            "Location: /cd/0/inline2/Ab3Z1ysz5qnLn97kFmRqtM7PbUf161dl6Ka8GaCLeT4AQyVMRFcFH5BaOm-RPAryOVhVz0T_4b2205rx8LPcQkYUm8TFFsSeah9Y3aL-K4rO8ojN4IdZxumH_dcnFDyDaf0CIdJLEDaKHh7cMDNlh24cgaU-7zkhPCHdUO9a6Xy5wrPNZuN4XwJEF67oa1diLNNG4HcpToyK1CWEjLIusJIB8BiNgeDs9KDZFuy2m5U_M9VP8KV01431wLMtA7h1e7ybEY2YgW5SHnVzofDbzMy15yfb2xhWOHdSsLH-Nqa2j6ZdCYUpEZHcotoqUvOByvJclG0JhSsvcFwnboE4IdAS/file [following]\n",
            "--2019-02-23 06:56:30--  https://uc10a4027aa5a140f72526553f27.dl.dropboxusercontent.com/cd/0/inline2/Ab3Z1ysz5qnLn97kFmRqtM7PbUf161dl6Ka8GaCLeT4AQyVMRFcFH5BaOm-RPAryOVhVz0T_4b2205rx8LPcQkYUm8TFFsSeah9Y3aL-K4rO8ojN4IdZxumH_dcnFDyDaf0CIdJLEDaKHh7cMDNlh24cgaU-7zkhPCHdUO9a6Xy5wrPNZuN4XwJEF67oa1diLNNG4HcpToyK1CWEjLIusJIB8BiNgeDs9KDZFuy2m5U_M9VP8KV01431wLMtA7h1e7ybEY2YgW5SHnVzofDbzMy15yfb2xhWOHdSsLH-Nqa2j6ZdCYUpEZHcotoqUvOByvJclG0JhSsvcFwnboE4IdAS/file\n",
            "Reusing existing connection to uc10a4027aa5a140f72526553f27.dl.dropboxusercontent.com:443.\n",
            "HTTP request sent, awaiting response... 200 OK\n",
            "Length: 589275976 (562M) [application/octet-stream]\n",
            "Saving to: ‘view3.tar.xz’\n",
            "\n",
            "view3.tar.xz        100%[===================>] 561.98M  51.0MB/s    in 11s     \n",
            "\n",
            "2019-02-23 06:56:42 (50.4 MB/s) - ‘view3.tar.xz’ saved [589275976/589275976]\n",
            "\n",
            "--2019-02-23 06:56:43--  https://www.dropbox.com/s/4nw27i1kvim5uct/view4.tar.xz\n",
            "Resolving www.dropbox.com (www.dropbox.com)... 162.125.82.1, 2620:100:6032:1::a27d:5201\n",
            "Connecting to www.dropbox.com (www.dropbox.com)|162.125.82.1|:443... connected.\n",
            "HTTP request sent, awaiting response... 301 Moved Permanently\n",
            "Location: /s/raw/4nw27i1kvim5uct/view4.tar.xz [following]\n",
            "--2019-02-23 06:56:44--  https://www.dropbox.com/s/raw/4nw27i1kvim5uct/view4.tar.xz\n",
            "Reusing existing connection to www.dropbox.com:443.\n",
            "HTTP request sent, awaiting response... 302 Found\n",
            "Location: https://ucddbdb5d654ea8fc2c478b6a7a8.dl.dropboxusercontent.com/cd/0/inline/Ab1__Yx3OJgougrOICu1gF-BV70dD3fh831gXwyTw34VE4pdThLflSu5qE_eTUaI3oBuRVu-0Ck-HwlbE8qiDEMMmsoeZYE_Wv-dbtUJ1CR9xA/file# [following]\n",
            "--2019-02-23 06:56:44--  https://ucddbdb5d654ea8fc2c478b6a7a8.dl.dropboxusercontent.com/cd/0/inline/Ab1__Yx3OJgougrOICu1gF-BV70dD3fh831gXwyTw34VE4pdThLflSu5qE_eTUaI3oBuRVu-0Ck-HwlbE8qiDEMMmsoeZYE_Wv-dbtUJ1CR9xA/file\n",
            "Resolving ucddbdb5d654ea8fc2c478b6a7a8.dl.dropboxusercontent.com (ucddbdb5d654ea8fc2c478b6a7a8.dl.dropboxusercontent.com)... 162.125.82.6, 2620:100:6032:6::a27d:5206\n",
            "Connecting to ucddbdb5d654ea8fc2c478b6a7a8.dl.dropboxusercontent.com (ucddbdb5d654ea8fc2c478b6a7a8.dl.dropboxusercontent.com)|162.125.82.6|:443... connected.\n",
            "HTTP request sent, awaiting response... 302 FOUND\n",
            "Location: /cd/0/inline2/Ab0sSPNl2d59XKz_DzZLSUM8I9mit-KR5XncGxFo1V1XNJymPCgz698Mtrnfw8kqBS_YKrwVCA9De2DoUv50fPmmZmzzbjlX1cq8IWKZXIaaWAM0hM4OtuXQeUSDsFm6mjdyBcVWNNkk0GusHW-9FReXVspHu4UGqsI02TPSGYp8lXk01HNDLsRymo7kGi3WZGbB6XLEfHGB1UN4Ah-7cl6AJiJ7cw-EdFasnBbQDDnnZsg11UxdmR4nW6FJ89ADgNYDfvYOCTJ2zoGWBK9T6darxJcXPx1JFykwrmcYWLDzbQcRp3E-5lqf_7mAXhmG51J5U-W1db6Lzaii3OAEgnC9/file [following]\n",
            "--2019-02-23 06:56:45--  https://ucddbdb5d654ea8fc2c478b6a7a8.dl.dropboxusercontent.com/cd/0/inline2/Ab0sSPNl2d59XKz_DzZLSUM8I9mit-KR5XncGxFo1V1XNJymPCgz698Mtrnfw8kqBS_YKrwVCA9De2DoUv50fPmmZmzzbjlX1cq8IWKZXIaaWAM0hM4OtuXQeUSDsFm6mjdyBcVWNNkk0GusHW-9FReXVspHu4UGqsI02TPSGYp8lXk01HNDLsRymo7kGi3WZGbB6XLEfHGB1UN4Ah-7cl6AJiJ7cw-EdFasnBbQDDnnZsg11UxdmR4nW6FJ89ADgNYDfvYOCTJ2zoGWBK9T6darxJcXPx1JFykwrmcYWLDzbQcRp3E-5lqf_7mAXhmG51J5U-W1db6Lzaii3OAEgnC9/file\n",
            "Reusing existing connection to ucddbdb5d654ea8fc2c478b6a7a8.dl.dropboxusercontent.com:443.\n",
            "HTTP request sent, awaiting response... 200 OK\n",
            "Length: 733382944 (699M) [application/octet-stream]\n",
            "Saving to: ‘view4.tar.xz’\n",
            "\n",
            "view4.tar.xz        100%[===================>] 699.41M  47.9MB/s    in 22s     \n",
            "\n",
            "2019-02-23 06:57:08 (31.5 MB/s) - ‘view4.tar.xz’ saved [733382944/733382944]\n",
            "\n",
            "--2019-02-23 06:57:10--  https://www.dropbox.com/s/iljbcc0zj21o2q7/view5.tar.xz\n",
            "Resolving www.dropbox.com (www.dropbox.com)... 162.125.82.1, 2620:100:6032:1::a27d:5201\n",
            "Connecting to www.dropbox.com (www.dropbox.com)|162.125.82.1|:443... connected.\n",
            "HTTP request sent, awaiting response... 301 Moved Permanently\n",
            "Location: /s/raw/iljbcc0zj21o2q7/view5.tar.xz [following]\n",
            "--2019-02-23 06:57:10--  https://www.dropbox.com/s/raw/iljbcc0zj21o2q7/view5.tar.xz\n",
            "Reusing existing connection to www.dropbox.com:443.\n",
            "HTTP request sent, awaiting response... 302 Found\n",
            "Location: https://uc392a773854454a6e913cd6bf8b.dl.dropboxusercontent.com/cd/0/inline/Ab2JyNG1tMdXOmheWxb3sX5GNBevmRoVlm4GJGfLtDRAMg356UPxo8mXSb3QYjEajGyaLQcW5LDswjF9JR2OXZfnDdMPAhz8fHeVhczHua5jWw/file# [following]\n",
            "--2019-02-23 06:57:10--  https://uc392a773854454a6e913cd6bf8b.dl.dropboxusercontent.com/cd/0/inline/Ab2JyNG1tMdXOmheWxb3sX5GNBevmRoVlm4GJGfLtDRAMg356UPxo8mXSb3QYjEajGyaLQcW5LDswjF9JR2OXZfnDdMPAhz8fHeVhczHua5jWw/file\n",
            "Resolving uc392a773854454a6e913cd6bf8b.dl.dropboxusercontent.com (uc392a773854454a6e913cd6bf8b.dl.dropboxusercontent.com)... 162.125.82.6, 2620:100:6032:6::a27d:5206\n",
            "Connecting to uc392a773854454a6e913cd6bf8b.dl.dropboxusercontent.com (uc392a773854454a6e913cd6bf8b.dl.dropboxusercontent.com)|162.125.82.6|:443... connected.\n",
            "HTTP request sent, awaiting response... 302 FOUND\n",
            "Location: /cd/0/inline2/Ab0czZ6IWbRA1K5c6sI8osqfHzjtOe_Dpy4d93VyJJfNnpITjm4gAgS3A-WddvNYsXxhnFJ2iJ4p6gISPi-y1Ar_9BvyixjDtZlNqzkqndMmCjdb1KFLgz9-HOreY70BKYfHQkM2Nk4P1py0gLARovI6b5sr8ZwGscXMEqchByJsrXLgiMVIMnwygIWS81TCOT9bA8161qjfVpex7MA7BH8igzs1ow5Z2sW740ZYqdh1f8Rp0t0KmZ6jlzXE-9jY2vDaEAV4htt-BQ7fSmONsXoY7bHwB5_grQdIOMf-Ng8sToWA4N75M7H9XsOlbwKP8WL1JAgq1qnQ3vgWyK7i-Xfo/file [following]\n",
            "--2019-02-23 06:57:11--  https://uc392a773854454a6e913cd6bf8b.dl.dropboxusercontent.com/cd/0/inline2/Ab0czZ6IWbRA1K5c6sI8osqfHzjtOe_Dpy4d93VyJJfNnpITjm4gAgS3A-WddvNYsXxhnFJ2iJ4p6gISPi-y1Ar_9BvyixjDtZlNqzkqndMmCjdb1KFLgz9-HOreY70BKYfHQkM2Nk4P1py0gLARovI6b5sr8ZwGscXMEqchByJsrXLgiMVIMnwygIWS81TCOT9bA8161qjfVpex7MA7BH8igzs1ow5Z2sW740ZYqdh1f8Rp0t0KmZ6jlzXE-9jY2vDaEAV4htt-BQ7fSmONsXoY7bHwB5_grQdIOMf-Ng8sToWA4N75M7H9XsOlbwKP8WL1JAgq1qnQ3vgWyK7i-Xfo/file\n",
            "Reusing existing connection to uc392a773854454a6e913cd6bf8b.dl.dropboxusercontent.com:443.\n",
            "HTTP request sent, awaiting response... 200 OK\n",
            "Length: 561985640 (536M) [application/octet-stream]\n",
            "Saving to: ‘view5.tar.xz’\n",
            "\n",
            "view5.tar.xz        100%[===================>] 535.95M  47.8MB/s    in 15s     \n",
            "\n",
            "2019-02-23 06:57:26 (36.8 MB/s) - ‘view5.tar.xz’ saved [561985640/561985640]\n",
            "\n"
          ],
          "name": "stdout"
        }
      ]
    },
    {
      "metadata": {
        "id": "N-8xKbMKNwwj",
        "colab_type": "code",
        "outputId": "1560f2a0-bcdd-489a-bc78-7d3dafe7cbce",
        "colab": {
          "base_uri": "https://localhost:8080/",
          "height": 67
        }
      },
      "cell_type": "code",
      "source": [
        "ls"
      ],
      "execution_count": 0,
      "outputs": [
        {
          "output_type": "stream",
          "text": [
            "\u001b[0m\u001b[01;34msample_data\u001b[0m/  \u001b[01;34mview2\u001b[0m/        view3.tar.xz  \u001b[01;34mview5\u001b[0m/\n",
            "\u001b[01;34mview1\u001b[0m/        view2.tar.xz  \u001b[01;34mview4\u001b[0m/        view5.tar.xz\n",
            "view1.tar.xz  \u001b[01;34mview3\u001b[0m/        view4.tar.xz\n"
          ],
          "name": "stdout"
        }
      ]
    },
    {
      "metadata": {
        "id": "IQzmSUanN0Z9",
        "colab_type": "code",
        "outputId": "1d7f2bad-57ad-46b7-e51e-ae664c7eba45",
        "colab": {
          "base_uri": "https://localhost:8080/",
          "height": 34
        }
      },
      "cell_type": "code",
      "source": [
        "import os\n",
        "import skimage\n",
        "from skimage import data,transform\n",
        "from skimage.transform import resize\n",
        "import matplotlib.pyplot as plt \n",
        "import pandas as pd\n",
        "import numpy as np\n",
        "from keras import applications\n",
        "from keras.models import Model\n",
        "from keras import optimizers\n",
        "from keras.models import Sequential\n",
        "from keras.layers import Dense, Dropout, Flatten\n",
        "from keras.layers import Conv2D, MaxPooling2D\n",
        "from keras.layers.normalization import BatchNormalization\n",
        "from keras.metrics import categorical_accuracy\n",
        "from keras.preprocessing.image import ImageDataGenerator\n",
        "from keras.callbacks import EarlyStopping,History\n",
        "from keras.utils import to_categorical\n",
        "from keras.preprocessing.image import ImageDataGenerator\n",
        "from keras.callbacks import ModelCheckpoint\n",
        "from sklearn.preprocessing import LabelEncoder\n",
        "from sklearn.utils import shuffle\n",
        "from tqdm import tqdm\n",
        "from sklearn.preprocessing import OneHotEncoder\n",
        "from sklearn.preprocessing import LabelEncoder\n",
        "from keras import applications\n",
        "from PIL import ImageFile\n",
        "from keras.models import model_from_json\n",
        "ImageFile.LOAD_TRUNCATED_IMAGES = True\n",
        "import cv2\n",
        "%matplotlib inline"
      ],
      "execution_count": 0,
      "outputs": [
        {
          "output_type": "stream",
          "text": [
            "Using TensorFlow backend.\n"
          ],
          "name": "stderr"
        }
      ]
    },
    {
      "metadata": {
        "id": "Ht5I-U-fN9sF",
        "colab_type": "code",
        "colab": {}
      },
      "cell_type": "code",
      "source": [
        "def find_label(name):\n",
        "  if name == \"ba\":\n",
        "    label = 0\n",
        "  elif name == \"bu\":\n",
        "    label = 1\n",
        "  elif name == \"ho\":\n",
        "    label = 2\n",
        "  elif name == \"la\":\n",
        "    label = 3\n",
        "  elif name == \"sl\":\n",
        "    label = 4\n",
        "  else:\n",
        "    label = 5\n",
        "    \n",
        "  return label\n"
      ],
      "execution_count": 0,
      "outputs": []
    },
    {
      "metadata": {
        "id": "Kk5BGOLQHciz",
        "colab_type": "code",
        "colab": {}
      },
      "cell_type": "code",
      "source": [
        "def crop_to_square(img):\n",
        "    if img.shape[0] > img.shape[1]:\n",
        "        extra = (img.shape[0] - img.shape[1])\n",
        "        if extra % 2 == 0:\n",
        "            crop = img[extra // 2:-extra // 2, :]\n",
        "        else:\n",
        "            crop = img[max(0, extra // 2 + 1):min(-1, -(extra // 2)), :]\n",
        "    elif img.shape[1] > img.shape[0]:\n",
        "        extra = (img.shape[1] - img.shape[0])\n",
        "        if extra % 2 == 0:\n",
        "            crop = img[:, extra // 2:-extra // 2]\n",
        "        else:\n",
        "            crop = img[:, max(0, extra // 2 + 1):min(-1, -(extra // 2))]\n",
        "    else:\n",
        "        crop = img\n",
        "    return crop\n",
        "  \n",
        "def load_data(data_directory):\n",
        "  images = []\n",
        "  labels = []\n",
        "  file_names = [os.path.join(data_directory,f) \n",
        "                for f in os.listdir(data_directory)]\n",
        "  for f in tqdm(file_names):\n",
        "#     print(f)\n",
        "    img = skimage.data.imread(f)\n",
        "    img = crop_to_square(img)\n",
        "    img = resize(img,(124,124))\n",
        "    images.append(img)\n",
        "    labels.append(find_label(f[15:17]))\n",
        "  return images, labels"
      ],
      "execution_count": 0,
      "outputs": []
    },
    {
      "metadata": {
        "id": "XubTykXJR19s",
        "colab_type": "code",
        "colab": {}
      },
      "cell_type": "code",
      "source": [
        "label_dict = {0:\"backstrap\", 1:\"buckle\", 2:\"hook&look\", 3:\"lace_up\", 4:\"slip_up\", 5:\"zipper\"}\n",
        "ilabel_dict = {\"backstrap\":0, \"buckle\":1, \"hook&look\":2, \"lace_up\":3, \"slip_up\":4, \"zipper\":5}"
      ],
      "execution_count": 0,
      "outputs": []
    },
    {
      "metadata": {
        "id": "l-5Ghu9pHw0m",
        "colab_type": "code",
        "outputId": "772a1d7b-7734-4baa-aea5-b0d010afa912",
        "colab": {
          "base_uri": "https://localhost:8080/",
          "height": 138
        }
      },
      "cell_type": "code",
      "source": [
        "ROOT_PATH = \"/content\"\n",
        "train_data_directory = os.path.join(ROOT_PATH, \"view1\")\n",
        "images1, labels1 = load_data(train_data_directory)\n",
        "\n",
        "train_data_directory = os.path.join(ROOT_PATH, \"view2\")\n",
        "images2,labels2 = load_data(train_data_directory)\n",
        "\n",
        "train_data_directory = os.path.join(ROOT_PATH, \"view3\")\n",
        "images3,labels3 = load_data(train_data_directory)\n",
        "\n",
        "train_data_directory = os.path.join(ROOT_PATH, \"view4\")\n",
        "images4,labels4 = load_data(train_data_directory)\n"
      ],
      "execution_count": 0,
      "outputs": [
        {
          "output_type": "stream",
          "text": [
            "  0%|          | 0/2156 [00:00<?, ?it/s]/usr/local/lib/python3.6/dist-packages/skimage/transform/_warps.py:84: UserWarning: The default mode, 'constant', will be changed to 'reflect' in skimage 0.15.\n",
            "  warn(\"The default mode, 'constant', will be changed to 'reflect' in \"\n",
            "100%|██████████| 2156/2156 [03:13<00:00, 11.06it/s]\n",
            "100%|██████████| 2156/2156 [03:27<00:00, 10.36it/s]\n",
            "100%|██████████| 2151/2151 [03:10<00:00, 11.31it/s]\n",
            "100%|██████████| 2150/2150 [03:18<00:00, 11.07it/s]\n"
          ],
          "name": "stderr"
        }
      ]
    },
    {
      "metadata": {
        "id": "hSpviIopWRCK",
        "colab_type": "code",
        "colab": {}
      },
      "cell_type": "code",
      "source": [
        "images1 = np.array(images1)\n",
        "images2 = np.array(images2)\n",
        "images3 = np.array(images3)\n",
        "images4 = np.array(images4)"
      ],
      "execution_count": 0,
      "outputs": []
    },
    {
      "metadata": {
        "id": "QoVmq99Vzdpu",
        "colab_type": "code",
        "outputId": "c3468767-e0e3-48e1-dacf-3252e4f65a0d",
        "colab": {
          "base_uri": "https://localhost:8080/",
          "height": 87
        }
      },
      "cell_type": "code",
      "source": [
        "ROOT_PATH = \"/content\"\n",
        "train_data_directory = os.path.join(ROOT_PATH, \"view5\")\n",
        "images5,labels5 = load_data(train_data_directory)\n",
        "images5 = np.array(images5)"
      ],
      "execution_count": 0,
      "outputs": [
        {
          "output_type": "stream",
          "text": [
            "  0%|          | 0/2124 [00:00<?, ?it/s]/usr/local/lib/python3.6/dist-packages/skimage/transform/_warps.py:84: UserWarning: The default mode, 'constant', will be changed to 'reflect' in skimage 0.15.\n",
            "  warn(\"The default mode, 'constant', will be changed to 'reflect' in \"\n",
            "100%|██████████| 2124/2124 [03:08<00:00, 11.39it/s]\n"
          ],
          "name": "stderr"
        }
      ]
    },
    {
      "metadata": {
        "id": "UpgXaklFyBF0",
        "colab_type": "code",
        "colab": {}
      },
      "cell_type": "code",
      "source": [
        "def onehot(label):\n",
        "  label = np.array(label).reshape(len(label),1)\n",
        "  onehotencoder = OneHotEncoder()\n",
        "  onehotencoder.fit(label) \n",
        "  xlabels = onehotencoder.transform(label).toarray()\n",
        "  return xlabels"
      ],
      "execution_count": 0,
      "outputs": []
    },
    {
      "metadata": {
        "id": "GAWqgIp0yZZv",
        "colab_type": "code",
        "outputId": "7562f2e3-cc92-4bdc-ca15-6162242bd381",
        "colab": {
          "base_uri": "https://localhost:8080/",
          "height": 121
        }
      },
      "cell_type": "code",
      "source": [
        "vgg_model = applications.VGG16(weights='imagenet',\n",
        "                               include_top=False,\n",
        "                               input_shape=(124, 124, 3))"
      ],
      "execution_count": 0,
      "outputs": [
        {
          "output_type": "stream",
          "text": [
            "WARNING:tensorflow:From /usr/local/lib/python3.6/dist-packages/tensorflow/python/framework/op_def_library.py:263: colocate_with (from tensorflow.python.framework.ops) is deprecated and will be removed in a future version.\n",
            "Instructions for updating:\n",
            "Colocations handled automatically by placer.\n",
            "Downloading data from https://github.com/fchollet/deep-learning-models/releases/download/v0.1/vgg16_weights_tf_dim_ordering_tf_kernels_notop.h5\n",
            "58892288/58889256 [==============================] - 6s 0us/step\n"
          ],
          "name": "stdout"
        }
      ]
    },
    {
      "metadata": {
        "id": "whNn1KoqEi5F",
        "colab_type": "code",
        "outputId": "85700185-a73d-4459-b3da-db879a712023",
        "colab": {
          "base_uri": "https://localhost:8080/",
          "height": 773
        }
      },
      "cell_type": "code",
      "source": [
        "vgg_model.summary()"
      ],
      "execution_count": 0,
      "outputs": [
        {
          "output_type": "stream",
          "text": [
            "_________________________________________________________________\n",
            "Layer (type)                 Output Shape              Param #   \n",
            "=================================================================\n",
            "input_1 (InputLayer)         (None, 124, 124, 3)       0         \n",
            "_________________________________________________________________\n",
            "block1_conv1 (Conv2D)        (None, 124, 124, 64)      1792      \n",
            "_________________________________________________________________\n",
            "block1_conv2 (Conv2D)        (None, 124, 124, 64)      36928     \n",
            "_________________________________________________________________\n",
            "block1_pool (MaxPooling2D)   (None, 62, 62, 64)        0         \n",
            "_________________________________________________________________\n",
            "block2_conv1 (Conv2D)        (None, 62, 62, 128)       73856     \n",
            "_________________________________________________________________\n",
            "block2_conv2 (Conv2D)        (None, 62, 62, 128)       147584    \n",
            "_________________________________________________________________\n",
            "block2_pool (MaxPooling2D)   (None, 31, 31, 128)       0         \n",
            "_________________________________________________________________\n",
            "block3_conv1 (Conv2D)        (None, 31, 31, 256)       295168    \n",
            "_________________________________________________________________\n",
            "block3_conv2 (Conv2D)        (None, 31, 31, 256)       590080    \n",
            "_________________________________________________________________\n",
            "block3_conv3 (Conv2D)        (None, 31, 31, 256)       590080    \n",
            "_________________________________________________________________\n",
            "block3_pool (MaxPooling2D)   (None, 15, 15, 256)       0         \n",
            "_________________________________________________________________\n",
            "block4_conv1 (Conv2D)        (None, 15, 15, 512)       1180160   \n",
            "_________________________________________________________________\n",
            "block4_conv2 (Conv2D)        (None, 15, 15, 512)       2359808   \n",
            "_________________________________________________________________\n",
            "block4_conv3 (Conv2D)        (None, 15, 15, 512)       2359808   \n",
            "_________________________________________________________________\n",
            "block4_pool (MaxPooling2D)   (None, 7, 7, 512)         0         \n",
            "_________________________________________________________________\n",
            "block5_conv1 (Conv2D)        (None, 7, 7, 512)         2359808   \n",
            "_________________________________________________________________\n",
            "block5_conv2 (Conv2D)        (None, 7, 7, 512)         2359808   \n",
            "_________________________________________________________________\n",
            "block5_conv3 (Conv2D)        (None, 7, 7, 512)         2359808   \n",
            "_________________________________________________________________\n",
            "block5_pool (MaxPooling2D)   (None, 3, 3, 512)         0         \n",
            "=================================================================\n",
            "Total params: 14,714,688\n",
            "Trainable params: 14,714,688\n",
            "Non-trainable params: 0\n",
            "_________________________________________________________________\n"
          ],
          "name": "stdout"
        }
      ]
    },
    {
      "metadata": {
        "id": "VXw3ZokjFm09",
        "colab_type": "code",
        "colab": {}
      },
      "cell_type": "code",
      "source": [
        "def create_model():\n",
        "  layer_dict = dict([(layer.name, layer) for layer in vgg_model.layers])\n",
        "  x = layer_dict['block5_pool'].output\n",
        "  x = Flatten()(x)\n",
        "  x = Dense(1024, activation='relu')(x)\n",
        "  x = Dropout(0.2)(x)\n",
        "  x = Dense(6, activation='softmax')(x)\n",
        "  return x"
      ],
      "execution_count": 0,
      "outputs": []
    },
    {
      "metadata": {
        "id": "zI0pHCG6Jr9O",
        "colab_type": "code",
        "colab": {}
      },
      "cell_type": "code",
      "source": [
        "def train(images,xlabels,name):\n",
        "  from keras.models import Model\n",
        "  custom_model = Model(input=vgg_model.input, output=create_model())\n",
        "  for layer in custom_model.layers[:18]:\n",
        "    layer.trainable = False\n",
        "  optimizer=optimizers.adam(lr=0.0002)\n",
        "  custom_model.compile(loss='categorical_crossentropy',\n",
        "                     optimizer=optimizer,metrics=['accuracy'])\n",
        "  train_model=custom_model.fit(images,xlabels,validation_split=0.1,epochs=10,batch_size=32)\n",
        "  weightname = str(name) + \".h5\"  \n",
        "  custom_model.save_weights(\"weightname\")\n",
        "  print(\"Saved model to disk\")\n",
        "  return custom_model"
      ],
      "execution_count": 0,
      "outputs": []
    },
    {
      "metadata": {
        "id": "s1W0__ZjLOQl",
        "colab_type": "code",
        "outputId": "5331c5bd-e6b8-446c-def4-65b89d51615e",
        "colab": {
          "base_uri": "https://localhost:8080/",
          "height": 2490
        }
      },
      "cell_type": "code",
      "source": [
        "view1 = train(images1,onehot(labels1),\"view1\")\n",
        "view2 = train(images2,onehot(labels2),\"view2\")\n",
        "view3 = train(images3,onehot(labels3),\"view3\")\n",
        "view4 = train(images4,onehot(labels4),\"view4\")\n",
        "view5= train(images5,onehot(labels5),\"view5\")"
      ],
      "execution_count": 0,
      "outputs": [
        {
          "output_type": "stream",
          "text": [
            "WARNING:tensorflow:From /usr/local/lib/python3.6/dist-packages/keras/backend/tensorflow_backend.py:3445: calling dropout (from tensorflow.python.ops.nn_ops) with keep_prob is deprecated and will be removed in a future version.\n",
            "Instructions for updating:\n",
            "Please use `rate` instead of `keep_prob`. Rate should be set to `rate = 1 - keep_prob`.\n",
            "WARNING:tensorflow:From /usr/local/lib/python3.6/dist-packages/tensorflow/python/ops/math_ops.py:3066: to_int32 (from tensorflow.python.ops.math_ops) is deprecated and will be removed in a future version.\n",
            "Instructions for updating:\n",
            "Use tf.cast instead.\n"
          ],
          "name": "stdout"
        },
        {
          "output_type": "stream",
          "text": [
            "/usr/local/lib/python3.6/dist-packages/sklearn/preprocessing/_encoders.py:368: FutureWarning: The handling of integer data will change in version 0.22. Currently, the categories are determined based on the range [0, max(values)], while in the future they will be determined based on the unique values.\n",
            "If you want the future behaviour and silence this warning, you can specify \"categories='auto'\".\n",
            "In case you used a LabelEncoder before this OneHotEncoder to convert the categories to integers, then you can now use the OneHotEncoder directly.\n",
            "  warnings.warn(msg, FutureWarning)\n",
            "/usr/local/lib/python3.6/dist-packages/ipykernel_launcher.py:3: UserWarning: Update your `Model` call to the Keras 2 API: `Model(inputs=Tensor(\"in..., outputs=Tensor(\"de...)`\n",
            "  This is separate from the ipykernel package so we can avoid doing imports until\n"
          ],
          "name": "stderr"
        },
        {
          "output_type": "stream",
          "text": [
            "Train on 1940 samples, validate on 216 samples\n",
            "Epoch 1/10\n",
            "1940/1940 [==============================] - 13s 7ms/step - loss: 0.9856 - acc: 0.6515 - val_loss: 0.6911 - val_acc: 0.7500\n",
            "Epoch 2/10\n",
            "1940/1940 [==============================] - 7s 4ms/step - loss: 0.5146 - acc: 0.8242 - val_loss: 0.6944 - val_acc: 0.7593\n",
            "Epoch 3/10\n",
            "1940/1940 [==============================] - 7s 4ms/step - loss: 0.4020 - acc: 0.8706 - val_loss: 0.6519 - val_acc: 0.7593\n",
            "Epoch 4/10\n",
            "1940/1940 [==============================] - 7s 4ms/step - loss: 0.3228 - acc: 0.9036 - val_loss: 0.5783 - val_acc: 0.8333\n",
            "Epoch 5/10\n",
            "1940/1940 [==============================] - 7s 4ms/step - loss: 0.2561 - acc: 0.9170 - val_loss: 0.5744 - val_acc: 0.8194\n",
            "Epoch 6/10\n",
            "1940/1940 [==============================] - 7s 4ms/step - loss: 0.2119 - acc: 0.9345 - val_loss: 0.6227 - val_acc: 0.8148\n",
            "Epoch 7/10\n",
            "1940/1940 [==============================] - 7s 4ms/step - loss: 0.1700 - acc: 0.9521 - val_loss: 0.5351 - val_acc: 0.8287\n",
            "Epoch 8/10\n",
            "1940/1940 [==============================] - 7s 4ms/step - loss: 0.1412 - acc: 0.9588 - val_loss: 0.6002 - val_acc: 0.7870\n",
            "Epoch 9/10\n",
            "1940/1940 [==============================] - 7s 4ms/step - loss: 0.1132 - acc: 0.9742 - val_loss: 0.5893 - val_acc: 0.8194\n",
            "Epoch 10/10\n",
            "1940/1940 [==============================] - 7s 4ms/step - loss: 0.0934 - acc: 0.9804 - val_loss: 0.6227 - val_acc: 0.8333\n",
            "Saved model to disk\n"
          ],
          "name": "stdout"
        },
        {
          "output_type": "stream",
          "text": [
            "/usr/local/lib/python3.6/dist-packages/sklearn/preprocessing/_encoders.py:368: FutureWarning: The handling of integer data will change in version 0.22. Currently, the categories are determined based on the range [0, max(values)], while in the future they will be determined based on the unique values.\n",
            "If you want the future behaviour and silence this warning, you can specify \"categories='auto'\".\n",
            "In case you used a LabelEncoder before this OneHotEncoder to convert the categories to integers, then you can now use the OneHotEncoder directly.\n",
            "  warnings.warn(msg, FutureWarning)\n",
            "/usr/local/lib/python3.6/dist-packages/ipykernel_launcher.py:3: UserWarning: Update your `Model` call to the Keras 2 API: `Model(inputs=Tensor(\"in..., outputs=Tensor(\"de...)`\n",
            "  This is separate from the ipykernel package so we can avoid doing imports until\n"
          ],
          "name": "stderr"
        },
        {
          "output_type": "stream",
          "text": [
            "Train on 1940 samples, validate on 216 samples\n",
            "Epoch 1/10\n",
            "1940/1940 [==============================] - 8s 4ms/step - loss: 1.2737 - acc: 0.5428 - val_loss: 0.9874 - val_acc: 0.6481\n",
            "Epoch 2/10\n",
            "1940/1940 [==============================] - 7s 4ms/step - loss: 0.6817 - acc: 0.7572 - val_loss: 0.8575 - val_acc: 0.6759\n",
            "Epoch 3/10\n",
            "1940/1940 [==============================] - 7s 4ms/step - loss: 0.5130 - acc: 0.8247 - val_loss: 0.7908 - val_acc: 0.7176\n",
            "Epoch 4/10\n",
            "1940/1940 [==============================] - 7s 4ms/step - loss: 0.3908 - acc: 0.8773 - val_loss: 0.8631 - val_acc: 0.7037\n",
            "Epoch 5/10\n",
            "1940/1940 [==============================] - 7s 4ms/step - loss: 0.2934 - acc: 0.9155 - val_loss: 0.7361 - val_acc: 0.7176\n",
            "Epoch 6/10\n",
            "1940/1940 [==============================] - 7s 4ms/step - loss: 0.2281 - acc: 0.9392 - val_loss: 0.7431 - val_acc: 0.7407\n",
            "Epoch 7/10\n",
            "1940/1940 [==============================] - 7s 4ms/step - loss: 0.1773 - acc: 0.9593 - val_loss: 0.7637 - val_acc: 0.7361\n",
            "Epoch 8/10\n",
            "1940/1940 [==============================] - 7s 4ms/step - loss: 0.1589 - acc: 0.9629 - val_loss: 0.7499 - val_acc: 0.7639\n",
            "Epoch 9/10\n",
            "1940/1940 [==============================] - 7s 4ms/step - loss: 0.1332 - acc: 0.9706 - val_loss: 0.7486 - val_acc: 0.7407\n",
            "Epoch 10/10\n",
            "1940/1940 [==============================] - 7s 4ms/step - loss: 0.1030 - acc: 0.9804 - val_loss: 0.8472 - val_acc: 0.7454\n",
            "Saved model to disk\n"
          ],
          "name": "stdout"
        },
        {
          "output_type": "stream",
          "text": [
            "/usr/local/lib/python3.6/dist-packages/sklearn/preprocessing/_encoders.py:368: FutureWarning: The handling of integer data will change in version 0.22. Currently, the categories are determined based on the range [0, max(values)], while in the future they will be determined based on the unique values.\n",
            "If you want the future behaviour and silence this warning, you can specify \"categories='auto'\".\n",
            "In case you used a LabelEncoder before this OneHotEncoder to convert the categories to integers, then you can now use the OneHotEncoder directly.\n",
            "  warnings.warn(msg, FutureWarning)\n",
            "/usr/local/lib/python3.6/dist-packages/ipykernel_launcher.py:3: UserWarning: Update your `Model` call to the Keras 2 API: `Model(inputs=Tensor(\"in..., outputs=Tensor(\"de...)`\n",
            "  This is separate from the ipykernel package so we can avoid doing imports until\n"
          ],
          "name": "stderr"
        },
        {
          "output_type": "stream",
          "text": [
            "Train on 1935 samples, validate on 216 samples\n",
            "Epoch 1/10\n",
            "1935/1935 [==============================] - 9s 4ms/step - loss: 1.0803 - acc: 0.6047 - val_loss: 0.7972 - val_acc: 0.6991\n",
            "Epoch 2/10\n",
            "1935/1935 [==============================] - 7s 4ms/step - loss: 0.5945 - acc: 0.7933 - val_loss: 0.7480 - val_acc: 0.7176\n",
            "Epoch 3/10\n",
            "1935/1935 [==============================] - 7s 4ms/step - loss: 0.4447 - acc: 0.8403 - val_loss: 0.8452 - val_acc: 0.6898\n",
            "Epoch 4/10\n",
            "1935/1935 [==============================] - 7s 4ms/step - loss: 0.3954 - acc: 0.8574 - val_loss: 0.5766 - val_acc: 0.7870\n",
            "Epoch 5/10\n",
            "1935/1935 [==============================] - 7s 4ms/step - loss: 0.2959 - acc: 0.9044 - val_loss: 0.5755 - val_acc: 0.7778\n",
            "Epoch 6/10\n",
            "1935/1935 [==============================] - 7s 4ms/step - loss: 0.2568 - acc: 0.9147 - val_loss: 0.5644 - val_acc: 0.8056\n",
            "Epoch 7/10\n",
            "1935/1935 [==============================] - 7s 4ms/step - loss: 0.2261 - acc: 0.9344 - val_loss: 0.6575 - val_acc: 0.7593\n",
            "Epoch 8/10\n",
            "1935/1935 [==============================] - 7s 4ms/step - loss: 0.1946 - acc: 0.9447 - val_loss: 0.5671 - val_acc: 0.8009\n",
            "Epoch 9/10\n",
            "1935/1935 [==============================] - 7s 4ms/step - loss: 0.1538 - acc: 0.9602 - val_loss: 0.6348 - val_acc: 0.7731\n",
            "Epoch 10/10\n",
            "1935/1935 [==============================] - 7s 4ms/step - loss: 0.1409 - acc: 0.9597 - val_loss: 0.6014 - val_acc: 0.7963\n",
            "Saved model to disk\n"
          ],
          "name": "stdout"
        },
        {
          "output_type": "stream",
          "text": [
            "/usr/local/lib/python3.6/dist-packages/sklearn/preprocessing/_encoders.py:368: FutureWarning: The handling of integer data will change in version 0.22. Currently, the categories are determined based on the range [0, max(values)], while in the future they will be determined based on the unique values.\n",
            "If you want the future behaviour and silence this warning, you can specify \"categories='auto'\".\n",
            "In case you used a LabelEncoder before this OneHotEncoder to convert the categories to integers, then you can now use the OneHotEncoder directly.\n",
            "  warnings.warn(msg, FutureWarning)\n",
            "/usr/local/lib/python3.6/dist-packages/ipykernel_launcher.py:3: UserWarning: Update your `Model` call to the Keras 2 API: `Model(inputs=Tensor(\"in..., outputs=Tensor(\"de...)`\n",
            "  This is separate from the ipykernel package so we can avoid doing imports until\n"
          ],
          "name": "stderr"
        },
        {
          "output_type": "stream",
          "text": [
            "Train on 1935 samples, validate on 215 samples\n",
            "Epoch 1/10\n",
            "1935/1935 [==============================] - 9s 5ms/step - loss: 1.2343 - acc: 0.5251 - val_loss: 0.9448 - val_acc: 0.6465\n",
            "Epoch 2/10\n",
            "1935/1935 [==============================] - 7s 4ms/step - loss: 0.7438 - acc: 0.7416 - val_loss: 0.8463 - val_acc: 0.6884\n",
            "Epoch 3/10\n",
            "1935/1935 [==============================] - 7s 4ms/step - loss: 0.5835 - acc: 0.8103 - val_loss: 0.8672 - val_acc: 0.6791\n",
            "Epoch 4/10\n",
            "1935/1935 [==============================] - 7s 4ms/step - loss: 0.4812 - acc: 0.8439 - val_loss: 0.9326 - val_acc: 0.6791\n",
            "Epoch 5/10\n",
            "1935/1935 [==============================] - 7s 4ms/step - loss: 0.3726 - acc: 0.8848 - val_loss: 0.7595 - val_acc: 0.7070\n",
            "Epoch 6/10\n",
            "1935/1935 [==============================] - 7s 4ms/step - loss: 0.3239 - acc: 0.8987 - val_loss: 0.7733 - val_acc: 0.6977\n",
            "Epoch 7/10\n",
            "1935/1935 [==============================] - 7s 4ms/step - loss: 0.2799 - acc: 0.9183 - val_loss: 0.6775 - val_acc: 0.7953\n",
            "Epoch 8/10\n",
            "1935/1935 [==============================] - 7s 4ms/step - loss: 0.2258 - acc: 0.9401 - val_loss: 0.6588 - val_acc: 0.7860\n",
            "Epoch 9/10\n",
            "1935/1935 [==============================] - 7s 4ms/step - loss: 0.2001 - acc: 0.9535 - val_loss: 0.7891 - val_acc: 0.7256\n",
            "Epoch 10/10\n",
            "1935/1935 [==============================] - 7s 4ms/step - loss: 0.1508 - acc: 0.9690 - val_loss: 0.6703 - val_acc: 0.7953\n",
            "Saved model to disk\n"
          ],
          "name": "stdout"
        },
        {
          "output_type": "stream",
          "text": [
            "/usr/local/lib/python3.6/dist-packages/sklearn/preprocessing/_encoders.py:368: FutureWarning: The handling of integer data will change in version 0.22. Currently, the categories are determined based on the range [0, max(values)], while in the future they will be determined based on the unique values.\n",
            "If you want the future behaviour and silence this warning, you can specify \"categories='auto'\".\n",
            "In case you used a LabelEncoder before this OneHotEncoder to convert the categories to integers, then you can now use the OneHotEncoder directly.\n",
            "  warnings.warn(msg, FutureWarning)\n",
            "/usr/local/lib/python3.6/dist-packages/ipykernel_launcher.py:3: UserWarning: Update your `Model` call to the Keras 2 API: `Model(inputs=Tensor(\"in..., outputs=Tensor(\"de...)`\n",
            "  This is separate from the ipykernel package so we can avoid doing imports until\n"
          ],
          "name": "stderr"
        },
        {
          "output_type": "stream",
          "text": [
            "Train on 1911 samples, validate on 213 samples\n",
            "Epoch 1/10\n",
            "1911/1911 [==============================] - 9s 5ms/step - loss: 1.1424 - acc: 0.5615 - val_loss: 0.8791 - val_acc: 0.6901\n",
            "Epoch 2/10\n",
            "1911/1911 [==============================] - 7s 4ms/step - loss: 0.6710 - acc: 0.7692 - val_loss: 0.7284 - val_acc: 0.7371\n",
            "Epoch 3/10\n",
            "1911/1911 [==============================] - 7s 4ms/step - loss: 0.5226 - acc: 0.8242 - val_loss: 0.7562 - val_acc: 0.7089\n",
            "Epoch 4/10\n",
            "1911/1911 [==============================] - 7s 4ms/step - loss: 0.4355 - acc: 0.8509 - val_loss: 0.7088 - val_acc: 0.7418\n",
            "Epoch 5/10\n",
            "1911/1911 [==============================] - 7s 4ms/step - loss: 0.3420 - acc: 0.8969 - val_loss: 0.6591 - val_acc: 0.7887\n",
            "Epoch 6/10\n",
            "1911/1911 [==============================] - 7s 4ms/step - loss: 0.2901 - acc: 0.9095 - val_loss: 0.6838 - val_acc: 0.7793\n",
            "Epoch 7/10\n",
            "1911/1911 [==============================] - 7s 4ms/step - loss: 0.2598 - acc: 0.9241 - val_loss: 0.6919 - val_acc: 0.7840\n",
            "Epoch 8/10\n",
            "1911/1911 [==============================] - 7s 4ms/step - loss: 0.2046 - acc: 0.9492 - val_loss: 0.6763 - val_acc: 0.7700\n",
            "Epoch 9/10\n",
            "1911/1911 [==============================] - 7s 4ms/step - loss: 0.1953 - acc: 0.9388 - val_loss: 0.7271 - val_acc: 0.7512\n",
            "Epoch 10/10\n",
            "1911/1911 [==============================] - 7s 4ms/step - loss: 0.1601 - acc: 0.9613 - val_loss: 0.6997 - val_acc: 0.7746\n",
            "Saved model to disk\n"
          ],
          "name": "stdout"
        }
      ]
    },
    {
      "metadata": {
        "id": "lc3ZTWI954uQ",
        "colab_type": "code",
        "outputId": "ef1d4f8e-b838-4ae5-b632-6664a612270f",
        "colab": {
          "base_uri": "https://localhost:8080/",
          "height": 34
        }
      },
      "cell_type": "code",
      "source": [
        "np.shape(images1[0])"
      ],
      "execution_count": 0,
      "outputs": [
        {
          "output_type": "execute_result",
          "data": {
            "text/plain": [
              "(124, 124, 3)"
            ]
          },
          "metadata": {
            "tags": []
          },
          "execution_count": 17
        }
      ]
    },
    {
      "metadata": {
        "id": "yPamW5c63uXJ",
        "colab_type": "code",
        "colab": {}
      },
      "cell_type": "code",
      "source": [
        "def convert_image(image):\n",
        "  shape = np.shape(image)\n",
        "  image = image.reshape(1,shape[0],shape[1],shape[2])\n",
        "\n",
        "  return image"
      ],
      "execution_count": 0,
      "outputs": []
    },
    {
      "metadata": {
        "id": "TjQyQ8Shp7yQ",
        "colab_type": "code",
        "colab": {}
      },
      "cell_type": "code",
      "source": [
        "view_dict = {0:'view1',1:'view2',2:'view3',3:'view4',4:'view5'}\n",
        "iview_dict = {'view1':0,'view2':1,'view3':2,'view4':3,'view5':4}\n",
        "def identify_view(images,label):\n",
        "  prob = []\n",
        "  image = convert_image(images[0])\n",
        "  plt.imshow(images[0])\n",
        "  pred = (view1.predict(image,steps=None))\n",
        "  prob.append(pred[0][label])\n",
        "  pred = view1.predict(convert_image(images[1]))\n",
        "  prob.append(pred[0][label])\n",
        "  pred = view1.predict(convert_image(images[2]))\n",
        "  prob.append(pred[0][label])\n",
        "  pred = view1.predict(convert_image(images[3]))\n",
        "  prob.append(pred[0][label])\n",
        "  pred = view1.predict(convert_image(images[4]))\n",
        "  prob.append(pred[0][label])\n",
        "  res = np.argmax(np.array(prob))\n",
        "  return view_dict[res]"
      ],
      "execution_count": 0,
      "outputs": []
    },
    {
      "metadata": {
        "id": "MkTwEL-yrVrd",
        "colab_type": "code",
        "colab": {}
      },
      "cell_type": "code",
      "source": [
        "inp = []\n",
        "inp.append(images1[1])\n",
        "inp.append(images2[1])\n",
        "inp.append(images3[1])\n",
        "inp.append(images4[1])\n",
        "inp.append(images5[1])"
      ],
      "execution_count": 0,
      "outputs": []
    },
    {
      "metadata": {
        "id": "cx4ymgskrppD",
        "colab_type": "code",
        "outputId": "f2d5a10a-c416-4c45-b77a-a7ad87a0b379",
        "colab": {
          "base_uri": "https://localhost:8080/",
          "height": 285
        }
      },
      "cell_type": "code",
      "source": [
        "print(identify_view(inp,labels1[1]))\n",
        "  "
      ],
      "execution_count": 0,
      "outputs": [
        {
          "output_type": "stream",
          "text": [
            "view1\n"
          ],
          "name": "stdout"
        },
        {
          "output_type": "display_data",
          "data": {
            "image/png": "[encoded data removed]",
            "text/plain": [
              "<Figure size 432x288 with 1 Axes>"
            ]
          },
          "metadata": {
            "tags": []
          }
        }
      ]
    },
    {
      "metadata": {
        "id": "h_qrvhixVfuJ",
        "colab_type": "code",
        "outputId": "4f58ace6-fb20-44e4-a50a-2f102a81db75",
        "colab": {
          "base_uri": "https://localhost:8080/",
          "height": 285
        }
      },
      "cell_type": "code",
      "source": [
        "plt.imshow(images1[1])"
      ],
      "execution_count": 0,
      "outputs": [
        {
          "output_type": "execute_result",
          "data": {
            "text/plain": [
              "<matplotlib.image.AxesImage at 0x7fd888632780>"
            ]
          },
          "metadata": {
            "tags": []
          },
          "execution_count": 22
        },
        {
          "output_type": "display_data",
          "data": {
            "image/png": "[encoded data removed]",
            "text/plain": [
              "<Figure size 432x288 with 1 Axes>"
            ]
          },
          "metadata": {
            "tags": []
          }
        }
      ]
    },
    {
      "metadata": {
        "id": "83OgD3Y0WFXJ",
        "colab_type": "code",
        "outputId": "fab59977-22df-48c3-85d5-4bd66f64c86e",
        "colab": {
          "base_uri": "https://localhost:8080/",
          "height": 285
        }
      },
      "cell_type": "code",
      "source": [
        " plt.imshow(images2[1])"
      ],
      "execution_count": 0,
      "outputs": [
        {
          "output_type": "execute_result",
          "data": {
            "text/plain": [
              "<matplotlib.image.AxesImage at 0x7fd888599080>"
            ]
          },
          "metadata": {
            "tags": []
          },
          "execution_count": 23
        },
        {
          "output_type": "display_data",
          "data": {
            "image/png": "[encoded data removed]",
            "text/plain": [
              "<Figure size 432x288 with 1 Axes>"
            ]
          },
          "metadata": {
            "tags": []
          }
        }
      ]
    },
    {
      "metadata": {
        "id": "0ZVWSxaQWJhO",
        "colab_type": "code",
        "outputId": "57fed46a-4e99-4dc9-cf23-cabfc0379c5b",
        "colab": {
          "base_uri": "https://localhost:8080/",
          "height": 285
        }
      },
      "cell_type": "code",
      "source": [
        "plt.imshow(images3[1])"
      ],
      "execution_count": 0,
      "outputs": [
        {
          "output_type": "execute_result",
          "data": {
            "text/plain": [
              "<matplotlib.image.AxesImage at 0x7fd888575470>"
            ]
          },
          "metadata": {
            "tags": []
          },
          "execution_count": 24
        },
        {
          "output_type": "display_data",
          "data": {
            "image/png": "[encoded data removed]",
            "text/plain": [
              "<Figure size 432x288 with 1 Axes>"
            ]
          },
          "metadata": {
            "tags": []
          }
        }
      ]
    },
    {
      "metadata": {
        "id": "kdXszIhkWMfb",
        "colab_type": "code",
        "outputId": "4db03f95-94ce-4eba-e81a-038b9d794595",
        "colab": {
          "base_uri": "https://localhost:8080/",
          "height": 285
        }
      },
      "cell_type": "code",
      "source": [
        "plt.imshow(images4[1])"
      ],
      "execution_count": 0,
      "outputs": [
        {
          "output_type": "execute_result",
          "data": {
            "text/plain": [
              "<matplotlib.image.AxesImage at 0x7fd888554860>"
            ]
          },
          "metadata": {
            "tags": []
          },
          "execution_count": 25
        },
        {
          "output_type": "display_data",
          "data": {
            "image/png": "[encoded data removed]",
            "text/plain": [
              "<Figure size 432x288 with 1 Axes>"
            ]
          },
          "metadata": {
            "tags": []
          }
        }
      ]
    },
    {
      "metadata": {
        "id": "JAtl_RkvWPo4",
        "colab_type": "code",
        "outputId": "aa90407e-9c23-44ad-86e7-49a6e5c59e47",
        "colab": {
          "base_uri": "https://localhost:8080/",
          "height": 285
        }
      },
      "cell_type": "code",
      "source": [
        "plt.imshow(images5[1])"
      ],
      "execution_count": 0,
      "outputs": [
        {
          "output_type": "execute_result",
          "data": {
            "text/plain": [
              "<matplotlib.image.AxesImage at 0x7fd8884b0c50>"
            ]
          },
          "metadata": {
            "tags": []
          },
          "execution_count": 26
        },
        {
          "output_type": "display_data",
          "data": {
            "image/png": "[encoded data removed]",
            "text/plain": [
              "<Figure size 432x288 with 1 Axes>"
            ]
          },
          "metadata": {
            "tags": []
          }
        }
      ]
    },
    {
      "metadata": {
        "id": "OZgsyH8HWTNn",
        "colab_type": "code",
        "colab": {}
      },
      "cell_type": "code",
      "source": [
        ""
      ],
      "execution_count": 0,
      "outputs": []
    }
  ]
}